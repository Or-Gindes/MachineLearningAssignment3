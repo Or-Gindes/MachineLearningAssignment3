{
  "cells": [
    {
      "cell_type": "markdown",
      "metadata": {
        "id": "view-in-github",
        "colab_type": "text"
      },
      "source": [
        "<a href=\"https://colab.research.google.com/github/Or-Gindes/MachineLearningAssignment3/blob/master/Assignment3_part2.ipynb\" target=\"_parent\"><img src=\"https://colab.research.google.com/assets/colab-badge.svg\" alt=\"Open In Colab\"/></a>"
      ]
    },
    {
      "cell_type": "markdown",
      "metadata": {
        "id": "8qOhjmU2gPsr"
      },
      "source": [
        "## Machine Learning - Assignment No. 3\n",
        "\n",
        "### Part 2 – Aim: Practice the usage of CNN (Convolutional Neural Network). \n"
      ]
    },
    {
      "cell_type": "markdown",
      "metadata": {
        "id": "jqakNzcUggB_"
      },
      "source": [
        "In this part you will use at least two pretrained CNNs to identify the type of a flower that appears in an image. You will need to choose your pretrained models and use Transfer Learning to associate flower images into their corresponding categories.\n",
        "\n",
        "We would like the model to classify the image into its category (the dandelions category in this example). The model should be probabilistic and returns the probability of a flower belonging to each of the categories."
      ]
    },
    {
      "cell_type": "code",
      "execution_count": 1,
      "metadata": {
        "id": "1iYZ1aRr-rw_",
        "colab": {
          "base_uri": "https://localhost:8080/"
        },
        "outputId": "28b26bef-8367-472e-b2c9-2c423c4f59ac"
      },
      "outputs": [
        {
          "output_type": "execute_result",
          "data": {
            "text/plain": [
              "('imagelabels.mat', <http.client.HTTPMessage at 0x7fef957bb850>)"
            ]
          },
          "metadata": {},
          "execution_count": 1
        }
      ],
      "source": [
        "# Get /flowers/102 files\n",
        "import os\n",
        "from urllib.request import urlretrieve\n",
        "seed=123\n",
        "\n",
        "dataset = \"https://www.robots.ox.ac.uk/~vgg/data/flowers/102/102flowers.tgz\"\n",
        "# segs = \"https://www.robots.ox.ac.uk/~vgg/data/flowers/102/102segmentations.tgz\"\n",
        "labels = \"https://www.robots.ox.ac.uk/~vgg/data/flowers/102/imagelabels.mat\"\n",
        "urlretrieve(dataset, dataset.rsplit('/', 1)[-1])\n",
        "# urlretrieve(segs, segs.rsplit('/', 1)[-1])\n",
        "urlretrieve(labels, labels.rsplit('/', 1)[-1])"
      ]
    },
    {
      "cell_type": "code",
      "execution_count": 2,
      "metadata": {
        "id": "62damTry_-hY",
        "colab": {
          "base_uri": "https://localhost:8080/",
          "height": 501
        },
        "outputId": "b6a67f38-4840-4f74-ddd5-8357c1304d18"
      },
      "outputs": [
        {
          "output_type": "stream",
          "name": "stdout",
          "text": [
            "Number of unique classes: 102\n"
          ]
        },
        {
          "output_type": "display_data",
          "data": {
            "text/plain": [
              "<Figure size 640x480 with 1 Axes>"
            ],
            "image/png": "[encoded data removed]"
          },
          "metadata": {}
        }
      ],
      "source": [
        "import matplotlib.pyplot as plt\n",
        "import numpy as np\n",
        "import pandas as pd\n",
        "import scipy.io\n",
        "\n",
        "mat = scipy.io.loadmat(labels.rsplit('/', 1)[-1])\n",
        "y = pd.Series(mat['labels'][0])\n",
        "unique_labels = y.unique()\n",
        "print(f\"Number of unique classes: {len(unique_labels)}\")\n",
        "\n",
        "plt.bar(unique_labels, y.value_counts())\n",
        "plt.xlabel('Labels')\n",
        "plt.ylabel('Number of Images')\n",
        "plt.title('Label Distribution')\n",
        "plt.xticks(rotation='vertical')\n",
        "plt.show()"
      ]
    },
    {
      "cell_type": "markdown",
      "metadata": {
        "id": "GOf48brIkdrl"
      },
      "source": [
        "CNN off-the-shelf\n",
        "\n",
        "\n",
        "*   Take pre-trained CNN (YOLOV5, VGG19)\n",
        "*   Removed the last fully-connected layer\n",
        "*   Take the rest of the CNN as a fixed feature extractor\n",
        "*   Train on https://www.robots.ox.ac.uk/~vgg/data/flowers/102/ \n",
        "\n",
        "\n",
        "\n"
      ]
    },
    {
      "cell_type": "code",
      "execution_count": 10,
      "metadata": {
        "id": "SJTYAUY-dJRp"
      },
      "outputs": [],
      "source": [
        "from tensorflow import keras\n",
        "from keras import Sequential\n",
        "from keras.layers import Dense, Dropout, Flatten\n",
        "from keras.applications import vgg19\n",
        "from keras.models import Model\n",
        "from tensorflow.keras.preprocessing.image import ImageDataGenerator # load_img, img_to_array, array_to_img"
      ]
    },
    {
      "cell_type": "markdown",
      "metadata": {
        "id": "rTGl1PGycB29"
      },
      "source": [
        "Extract the images and prepare to read them using ImageDataGenerator - "
      ]
    },
    {
      "cell_type": "code",
      "execution_count": 5,
      "metadata": {
        "id": "y-5UAxKbUM4G"
      },
      "outputs": [],
      "source": [
        "import tarfile\n",
        "\n",
        "tgz_file = dataset.rsplit('/', 1)[-1]\n",
        "\n",
        "with tarfile.open(tgz_file, 'r:gz') as file:\n",
        "    # Extract all files to the specified directory\n",
        "    file.extractall('.')"
      ]
    },
    {
      "cell_type": "markdown",
      "source": [
        "### TODOS:\n",
        "1. Getting it to work (VGG19 + flow_from_dataframe) -\n",
        "    1. test current setup with GPU\n",
        "    2. try to fix one-hot encoding\n",
        "    3. try transfer learning with less layers (e.g. layer 4)\n",
        "\n",
        "2. Hyperparameter Tuning\n",
        "3. Write code blocks in functions and apply to YOLOv5 also\n",
        "4. Provide an accuracy graph and the Cross-Entropy graph for train/validation/test as a function of the number of epochs for all models."
      ],
      "metadata": {
        "id": "ON0wxlGABQ7o"
      }
    },
    {
      "cell_type": "code",
      "source": [
        "# This code block currently fails due to RAM issues\n",
        "\n",
        "# # Load images to array (data generator \"flow\")\n",
        "# image_path = \"./jpg\"\n",
        "# image_file_names = os.listdir(image_path)\n",
        "# image_file_names.sort()\n",
        "# image_array_list = []\n",
        "# for image_file_name in image_file_names:\n",
        "#     tf_image = keras.preprocessing.image.load_img(\n",
        "#         path=f\"{image_path}/{image_file_name}\",\n",
        "#         grayscale=False,\n",
        "#         target_size=(224,224,),\n",
        "#     )\n",
        "#     img_array = keras.preprocessing.image.img_to_array(tf_image)\n",
        "#     process_img = vgg19.preprocess_input(img_array)\n",
        "#     image_array_list.append(process_img)\n",
        "\n",
        "# # Prepare train/validation/test sets (0.5/0.25/0.25)\n",
        "# X_train, X_val_test, y_train, y_val_test = train_test_split(\n",
        "#     image_array_list,\n",
        "#     one_hot_labels,\n",
        "#     test_size=0.5,\n",
        "#     random_state=seed,\n",
        "#     shuffle=True,\n",
        "#     stratify=y,\n",
        "# )\n",
        "# X_val, X_test, y_val, y_test = train_test_split(\n",
        "#     X_val_test,\n",
        "#     y_val_test,\n",
        "#     test_size=0.5,\n",
        "#     random_state=seed,\n",
        "#     shuffle=True,\n",
        "#     stratify=y_val_test,\n",
        "# )\n",
        "\n",
        "# # Prepare data generators\n",
        "# train_data_gen = ImageDataGenerator()\n",
        "# valid_data_gen = ImageDataGenerator()\n",
        "# test_data_gen = ImageDataGenerator()\n",
        "\n",
        "# # Setting up the generators\n",
        "# training_generator = train_data_gen.flow(\n",
        "#     x=np.array(X_train), y=y_train, batch_size=32\n",
        "# )\n",
        "# validation_generator = valid_data_gen.flow(\n",
        "#     x=np.array(X_val), y=y_val, batch_size=32\n",
        "# )\n",
        "# test_generator = test_data_gen.flow(\n",
        "#     x=np.array(X_test), y=y_test, batch_size=32\n",
        "# )"
      ],
      "metadata": {
        "id": "EVokNngvqC1G"
      },
      "execution_count": null,
      "outputs": []
    },
    {
      "cell_type": "code",
      "source": [
        "from sklearn.preprocessing import OneHotEncoder\n",
        "\n",
        "# OneHotEncoding for labels\n",
        "oh_encoder = OneHotEncoder()\n",
        "\n",
        "image_labels = scipy.io.loadmat(labels.rsplit('/', 1)[-1])[\"labels\"][0]\n",
        "image_labels_2d = image_labels.reshape(-1, 1)\n",
        "\n",
        "encoder = OneHotEncoder(sparse=False)\n",
        "one_hot_labels = encoder.fit_transform(image_labels_2d)"
      ],
      "metadata": {
        "colab": {
          "base_uri": "https://localhost:8080/"
        },
        "id": "HIXRLOmOfA8o",
        "outputId": "75130efb-77c5-43df-961b-25d156116e18"
      },
      "execution_count": 3,
      "outputs": [
        {
          "output_type": "stream",
          "name": "stderr",
          "text": [
            "/usr/local/lib/python3.10/dist-packages/sklearn/preprocessing/_encoders.py:868: FutureWarning: `sparse` was renamed to `sparse_output` in version 1.2 and will be removed in 1.4. `sparse_output` is ignored unless you leave `sparse` to its default value.\n",
            "  warnings.warn(\n"
          ]
        }
      ]
    },
    {
      "cell_type": "code",
      "execution_count": 14,
      "metadata": {
        "id": "t1XEhRapX3h3",
        "colab": {
          "base_uri": "https://localhost:8080/",
          "height": 206
        },
        "outputId": "dad08782-d5ec-4a72-a1c4-0c64e894d729"
      },
      "outputs": [
        {
          "output_type": "execute_result",
          "data": {
            "text/plain": [
              "          filename class\n",
              "0  image_06966.jpg    77\n",
              "1  image_07188.jpg    77\n",
              "2  image_03578.jpg    77\n",
              "3  image_01030.jpg    77\n",
              "4  image_06418.jpg    77"
            ],
            "text/html": [
              "\n",
              "  <div id=\"df-7c5269e7-ff18-4742-b0ae-6c5094e808fb\">\n",
              "    <div class=\"colab-df-container\">\n",
              "      <div>\n",
              "<style scoped>\n",
              "    .dataframe tbody tr th:only-of-type {\n",
              "        vertical-align: middle;\n",
              "    }\n",
              "\n",
              "    .dataframe tbody tr th {\n",
              "        vertical-align: top;\n",
              "    }\n",
              "\n",
              "    .dataframe thead th {\n",
              "        text-align: right;\n",
              "    }\n",
              "</style>\n",
              "<table border=\"1\" class=\"dataframe\">\n",
              "  <thead>\n",
              "    <tr style=\"text-align: right;\">\n",
              "      <th></th>\n",
              "      <th>filename</th>\n",
              "      <th>class</th>\n",
              "    </tr>\n",
              "  </thead>\n",
              "  <tbody>\n",
              "    <tr>\n",
              "      <th>0</th>\n",
              "      <td>image_06966.jpg</td>\n",
              "      <td>77</td>\n",
              "    </tr>\n",
              "    <tr>\n",
              "      <th>1</th>\n",
              "      <td>image_07188.jpg</td>\n",
              "      <td>77</td>\n",
              "    </tr>\n",
              "    <tr>\n",
              "      <th>2</th>\n",
              "      <td>image_03578.jpg</td>\n",
              "      <td>77</td>\n",
              "    </tr>\n",
              "    <tr>\n",
              "      <th>3</th>\n",
              "      <td>image_01030.jpg</td>\n",
              "      <td>77</td>\n",
              "    </tr>\n",
              "    <tr>\n",
              "      <th>4</th>\n",
              "      <td>image_06418.jpg</td>\n",
              "      <td>77</td>\n",
              "    </tr>\n",
              "  </tbody>\n",
              "</table>\n",
              "</div>\n",
              "      <button class=\"colab-df-convert\" onclick=\"convertToInteractive('df-7c5269e7-ff18-4742-b0ae-6c5094e808fb')\"\n",
              "              title=\"Convert this dataframe to an interactive table.\"\n",
              "              style=\"display:none;\">\n",
              "        \n",
              "  <svg xmlns=\"http://www.w3.org/2000/svg\" height=\"24px\"viewBox=\"0 0 24 24\"\n",
              "       width=\"24px\">\n",
              "    <path d=\"M0 0h24v24H0V0z\" fill=\"none\"/>\n",
              "    <path d=\"M18.56 5.44l.94 2.06.94-2.06 2.06-.94-2.06-.94-.94-2.06-.94 2.06-2.06.94zm-11 1L8.5 8.5l.94-2.06 2.06-.94-2.06-.94L8.5 2.5l-.94 2.06-2.06.94zm10 10l.94 2.06.94-2.06 2.06-.94-2.06-.94-.94-2.06-.94 2.06-2.06.94z\"/><path d=\"M17.41 7.96l-1.37-1.37c-.4-.4-.92-.59-1.43-.59-.52 0-1.04.2-1.43.59L10.3 9.45l-7.72 7.72c-.78.78-.78 2.05 0 2.83L4 21.41c.39.39.9.59 1.41.59.51 0 1.02-.2 1.41-.59l7.78-7.78 2.81-2.81c.8-.78.8-2.07 0-2.86zM5.41 20L4 18.59l7.72-7.72 1.47 1.35L5.41 20z\"/>\n",
              "  </svg>\n",
              "      </button>\n",
              "      \n",
              "  <style>\n",
              "    .colab-df-container {\n",
              "      display:flex;\n",
              "      flex-wrap:wrap;\n",
              "      gap: 12px;\n",
              "    }\n",
              "\n",
              "    .colab-df-convert {\n",
              "      background-color: #E8F0FE;\n",
              "      border: none;\n",
              "      border-radius: 50%;\n",
              "      cursor: pointer;\n",
              "      display: none;\n",
              "      fill: #1967D2;\n",
              "      height: 32px;\n",
              "      padding: 0 0 0 0;\n",
              "      width: 32px;\n",
              "    }\n",
              "\n",
              "    .colab-df-convert:hover {\n",
              "      background-color: #E2EBFA;\n",
              "      box-shadow: 0px 1px 2px rgba(60, 64, 67, 0.3), 0px 1px 3px 1px rgba(60, 64, 67, 0.15);\n",
              "      fill: #174EA6;\n",
              "    }\n",
              "\n",
              "    [theme=dark] .colab-df-convert {\n",
              "      background-color: #3B4455;\n",
              "      fill: #D2E3FC;\n",
              "    }\n",
              "\n",
              "    [theme=dark] .colab-df-convert:hover {\n",
              "      background-color: #434B5C;\n",
              "      box-shadow: 0px 1px 3px 1px rgba(0, 0, 0, 0.15);\n",
              "      filter: drop-shadow(0px 1px 2px rgba(0, 0, 0, 0.3));\n",
              "      fill: #FFFFFF;\n",
              "    }\n",
              "  </style>\n",
              "\n",
              "      <script>\n",
              "        const buttonEl =\n",
              "          document.querySelector('#df-7c5269e7-ff18-4742-b0ae-6c5094e808fb button.colab-df-convert');\n",
              "        buttonEl.style.display =\n",
              "          google.colab.kernel.accessAllowed ? 'block' : 'none';\n",
              "\n",
              "        async function convertToInteractive(key) {\n",
              "          const element = document.querySelector('#df-7c5269e7-ff18-4742-b0ae-6c5094e808fb');\n",
              "          const dataTable =\n",
              "            await google.colab.kernel.invokeFunction('convertToInteractive',\n",
              "                                                     [key], {});\n",
              "          if (!dataTable) return;\n",
              "\n",
              "          const docLinkHtml = 'Like what you see? Visit the ' +\n",
              "            '<a target=\"_blank\" href=https://colab.research.google.com/notebooks/data_table.ipynb>data table notebook</a>'\n",
              "            + ' to learn more about interactive tables.';\n",
              "          element.innerHTML = '';\n",
              "          dataTable['output_type'] = 'display_data';\n",
              "          await google.colab.output.renderOutput(dataTable, element);\n",
              "          const docLink = document.createElement('div');\n",
              "          docLink.innerHTML = docLinkHtml;\n",
              "          element.appendChild(docLink);\n",
              "        }\n",
              "      </script>\n",
              "    </div>\n",
              "  </div>\n",
              "  "
            ]
          },
          "metadata": {},
          "execution_count": 14
        }
      ],
      "source": [
        "import pandas as pd\n",
        "\n",
        "# Prepare dataframe for flow_from_dataframe\n",
        "data_dir = os.path.join(os.getcwd(), 'jpg')\n",
        "df = pd.DataFrame({\"filename\": os.listdir(data_dir),  \"class\": y.astype(str)})\n",
        "df.head()\n",
        "\n",
        "# This might be needed for the onehotencoded labels?\n",
        "# df['class'] = df['class'].apply(lambda row: row.tolist())"
      ]
    },
    {
      "cell_type": "markdown",
      "metadata": {
        "id": "W0RFsA5BcJ2p"
      },
      "source": [
        "Split the data to Training (50%), Validation (25%) and Test (25%) sets"
      ]
    },
    {
      "cell_type": "code",
      "execution_count": 15,
      "metadata": {
        "id": "lg9FZo29RyMK"
      },
      "outputs": [],
      "source": [
        "from sklearn.model_selection import train_test_split\n",
        "\n",
        "# Preprocessing - define image size required by the model\n",
        "# Define preprocessing function as the models preprocess_input function\n",
        "\n",
        "def get_data_generators(df, img_size, preprocessing_function, batch_size=32):\n",
        "    train_df, val_test_df = train_test_split(df, stratify=df['class'], test_size=0.5, \n",
        "                                             random_state=seed, shuffle=True)\n",
        "    val_df, test_df = train_test_split(val_test_df, \n",
        "                                       stratify=val_test_df['class'], \n",
        "                                       test_size=0.5, random_state=seed, shuffle=True)\n",
        "\n",
        "    # TODO: Need to check if resizing helps\n",
        "    train_data_gen = ImageDataGenerator(preprocessing_function=preprocessing_function)#, resize=1/255)\n",
        "    valid_data_gen = ImageDataGenerator(preprocessing_function=preprocessing_function)#, resize=1/255)\n",
        "    test_data_gen = ImageDataGenerator(preprocessing_function=preprocessing_function)#, resize=1/255)\n",
        "    print(\"Training:\")\n",
        "    train_generator = train_data_gen.flow_from_dataframe(\n",
        "        train_df,\n",
        "        data_dir,\n",
        "        target_size=img_size,\n",
        "        batch_size=batch_size,\n",
        "        class_mode='categorical',\n",
        "        seed=seed\n",
        "    )\n",
        "\n",
        "    print(\"Validation:\")\n",
        "    validation_generator = valid_data_gen.flow_from_dataframe(\n",
        "        val_df,\n",
        "        data_dir,\n",
        "        target_size=img_size,\n",
        "        batch_size=batch_size,\n",
        "        class_mode='categorical',\n",
        "        seed=seed\n",
        "    )\n",
        "\n",
        "    print(\"Test:\")\n",
        "    test_generator = test_data_gen.flow_from_dataframe(\n",
        "        test_df,\n",
        "        data_dir,\n",
        "        target_size=img_size,\n",
        "        batch_size=batch_size,\n",
        "        class_mode='categorical',\n",
        "        seed=seed\n",
        "    )\n",
        "\n",
        "    return train_generator, validation_generator, test_generator"
      ]
    },
    {
      "cell_type": "markdown",
      "metadata": {
        "id": "jimWRpId5BIj"
      },
      "source": [
        "From keras guide to transfer learning -\n",
        "1.   Take layers from a previously trained model.\n",
        "2.  Freeze them, so as to avoid destroying any of the information they contain during future training rounds.\n",
        "3. Add some new, trainable layers on top of the frozen layers. They will learn to turn the old features into predictions on a new dataset.\n",
        "4. Train the new layers on your dataset."
      ]
    },
    {
      "cell_type": "markdown",
      "metadata": {
        "id": "usYlWkr-htOK"
      },
      "source": [
        "### VGG19 - "
      ]
    },
    {
      "cell_type": "markdown",
      "metadata": {
        "id": "VbLafR_D5bgp"
      },
      "source": [
        "Preprocessing for this model is accomplished with the preprocess_input function which converts the input images from RGB to BGR and zero-centers each color channel with respect to the ImageNet dataset, without scaling the image. The images are read with target_size 224x224 which is the input side of the model"
      ]
    },
    {
      "cell_type": "code",
      "execution_count": 16,
      "metadata": {
        "id": "0Ap-TzU6jG89",
        "colab": {
          "base_uri": "https://localhost:8080/"
        },
        "outputId": "78d527ef-1b24-4fab-d484-f03e2e41d832"
      },
      "outputs": [
        {
          "output_type": "stream",
          "name": "stdout",
          "text": [
            "Training:\n",
            "Found 4094 validated image filenames belonging to 102 classes.\n",
            "Validation:\n",
            "Found 2047 validated image filenames belonging to 102 classes.\n",
            "Test:\n",
            "Found 2048 validated image filenames belonging to 102 classes.\n"
          ]
        }
      ],
      "source": [
        "train_generator, validation_generator, test_generator = get_data_generators(df, img_size=(224, 224), preprocessing_function=vgg19.preprocess_input)"
      ]
    },
    {
      "cell_type": "markdown",
      "metadata": {
        "id": "seJJiYrwjbJw"
      },
      "source": [
        "load the model (without its final top predictive layers) and take a look at its structure"
      ]
    },
    {
      "cell_type": "code",
      "execution_count": 17,
      "metadata": {
        "id": "iDHBmPTF6ADr",
        "colab": {
          "base_uri": "https://localhost:8080/"
        },
        "outputId": "6566261e-ad8b-4e0a-8a79-19418b989f3a"
      },
      "outputs": [
        {
          "output_type": "stream",
          "name": "stdout",
          "text": [
            "Downloading data from https://storage.googleapis.com/tensorflow/keras-applications/vgg19/vgg19_weights_tf_dim_ordering_tf_kernels_notop.h5\n",
            "80134624/80134624 [==============================] - 0s 0us/step\n",
            "Model: \"vgg19\"\n",
            "_________________________________________________________________\n",
            " Layer (type)                Output Shape              Param #   \n",
            "=================================================================\n",
            " input_1 (InputLayer)        [(None, 224, 224, 3)]     0         \n",
            "                                                                 \n",
            " block1_conv1 (Conv2D)       (None, 224, 224, 64)      1792      \n",
            "                                                                 \n",
            " block1_conv2 (Conv2D)       (None, 224, 224, 64)      36928     \n",
            "                                                                 \n",
            " block1_pool (MaxPooling2D)  (None, 112, 112, 64)      0         \n",
            "                                                                 \n",
            " block2_conv1 (Conv2D)       (None, 112, 112, 128)     73856     \n",
            "                                                                 \n",
            " block2_conv2 (Conv2D)       (None, 112, 112, 128)     147584    \n",
            "                                                                 \n",
            " block2_pool (MaxPooling2D)  (None, 56, 56, 128)       0         \n",
            "                                                                 \n",
            " block3_conv1 (Conv2D)       (None, 56, 56, 256)       295168    \n",
            "                                                                 \n",
            " block3_conv2 (Conv2D)       (None, 56, 56, 256)       590080    \n",
            "                                                                 \n",
            " block3_conv3 (Conv2D)       (None, 56, 56, 256)       590080    \n",
            "                                                                 \n",
            " block3_conv4 (Conv2D)       (None, 56, 56, 256)       590080    \n",
            "                                                                 \n",
            " block3_pool (MaxPooling2D)  (None, 28, 28, 256)       0         \n",
            "                                                                 \n",
            " block4_conv1 (Conv2D)       (None, 28, 28, 512)       1180160   \n",
            "                                                                 \n",
            " block4_conv2 (Conv2D)       (None, 28, 28, 512)       2359808   \n",
            "                                                                 \n",
            " block4_conv3 (Conv2D)       (None, 28, 28, 512)       2359808   \n",
            "                                                                 \n",
            " block4_conv4 (Conv2D)       (None, 28, 28, 512)       2359808   \n",
            "                                                                 \n",
            " block4_pool (MaxPooling2D)  (None, 14, 14, 512)       0         \n",
            "                                                                 \n",
            " block5_conv1 (Conv2D)       (None, 14, 14, 512)       2359808   \n",
            "                                                                 \n",
            " block5_conv2 (Conv2D)       (None, 14, 14, 512)       2359808   \n",
            "                                                                 \n",
            " block5_conv3 (Conv2D)       (None, 14, 14, 512)       2359808   \n",
            "                                                                 \n",
            " block5_conv4 (Conv2D)       (None, 14, 14, 512)       2359808   \n",
            "                                                                 \n",
            " block5_pool (MaxPooling2D)  (None, 7, 7, 512)         0         \n",
            "                                                                 \n",
            "=================================================================\n",
            "Total params: 20,024,384\n",
            "Trainable params: 20,024,384\n",
            "Non-trainable params: 0\n",
            "_________________________________________________________________\n"
          ]
        }
      ],
      "source": [
        "# Load the VGG19 model with its imagenet pretrained weights\n",
        "# but without the final 3 fully connected layers at the top of the network\n",
        "base_model = vgg19.VGG19(weights=\"imagenet\", include_top=False, input_shape=(224, 224, 3))\n",
        "base_model.summary()"
      ]
    },
    {
      "cell_type": "code",
      "execution_count": null,
      "metadata": {
        "id": "r0wbNDTN8S5L",
        "colab": {
          "base_uri": "https://localhost:8080/"
        },
        "outputId": "a5200463-e363-48d3-9af2-064188f9bada"
      },
      "outputs": [
        {
          "output_type": "stream",
          "name": "stdout",
          "text": [
            "Epoch 1/50\n",
            "128/128 [==============================] - 3030s 24s/step - loss: 6.5043 - accuracy: 0.0259 - val_loss: 4.6147 - val_accuracy: 0.0313\n",
            "Epoch 2/50\n",
            " 92/128 [====================>.........] - ETA: 9:25 - loss: 4.5510 - accuracy: 0.0418"
          ]
        }
      ],
      "source": [
        "# Set base_model weights to not be trainable (required for transfer learning)\n",
        "base_model.trainable = False\n",
        "\n",
        "# Create new \"top model\" to meld with the base_model\n",
        "# Only top model will be trained in transfer learning\n",
        "inputs = keras.layers.Input(shape=(224, 224, 3))\n",
        "x = base_model(inputs, training=False)\n",
        "x = Flatten()(x)  # Add a Flatten layer here\n",
        "x = Dense(256, activation='relu')(x)  # Add a Dense layer for additional non-linearity\n",
        "x = Dropout(0.2)(x)\n",
        "outputs = Dense(len(unique_labels), activation='softmax')(x)\n",
        "\n",
        "model = Model(inputs, outputs)\n",
        "\n",
        "# Train the model on the flowers images\n",
        "early_stopping = keras.callbacks.EarlyStopping(patience=5, monitor='val_accuracy', mode=\"max\")\n",
        "\n",
        "model.compile(optimizer=keras.optimizers.Adam(),\n",
        "              loss=\"categorical_crossentropy\",\n",
        "              metrics=['accuracy'])\n",
        "\n",
        "history = model.fit(train_generator, epochs=50, callbacks=[early_stopping], \n",
        "                    validation_data=validation_generator, verbose=1)"
      ]
    },
    {
      "cell_type": "code",
      "execution_count": null,
      "metadata": {
        "colab": {
          "base_uri": "https://localhost:8080/"
        },
        "id": "vv423miX7xmz",
        "outputId": "70a2eb88-837c-4c2f-e4de-07c80040cbef"
      },
      "outputs": [
        {
          "name": "stdout",
          "output_type": "stream",
          "text": [
            "Epoch 1/100\n",
            "128/128 [==============================] - ETA: 0s - loss: 9.2068 - accuracy: 0.0129 "
          ]
        }
      ],
      "source": [
        "\"\"\"\n",
        "These cells are different ways to setup the \"top-model\"\n",
        "not really needed if the top part will work but can try different \"top-model\"\n",
        "architectures\n",
        "\"\"\"\n",
        "\n",
        "\n",
        "# Transfer learning - Freeze the weights of the base_model \n",
        "base_model.trainable = False\n",
        "\n",
        "# Define a new top model\n",
        "n_classes = len(y.unique())\n",
        "\n",
        "top_model = Sequential()\n",
        "top_model.add(keras.layers.GlobalAveragePooling2D())\n",
        "top_model.add(Dense(n_classes, activation='softmax'))\n",
        "\n",
        "# Combine the base_model with new top model\n",
        "# bot_model = Model(input=base_model.input, output=base_model.get_layer('block4_pool').output)\n",
        "model = Sequential()\n",
        "model.add(base_model)\n",
        "model.add(top_model)\n",
        "\n",
        "# Train the model on the flowers images\n",
        "early_stopping = keras.callbacks.EarlyStopping(patience=5, monitor='val_loss')\n",
        "\n",
        "model.compile(optimizer=keras.optimizers.Adam(),\n",
        "              loss=\"categorical_crossentropy\",\n",
        "              metrics=['accuracy'])\n",
        "\n",
        "history = model.fit(train_generator, epochs=100, callbacks=[early_stopping], \n",
        "                    validation_data=validation_generator, verbose=1)"
      ]
    },
    {
      "cell_type": "code",
      "execution_count": null,
      "metadata": {
        "id": "KFpipZo8Tm7D"
      },
      "outputs": [],
      "source": [
        "test_loss, test_accuracy = model.evaluate(test_generator, verbose=0)"
      ]
    },
    {
      "cell_type": "code",
      "execution_count": null,
      "metadata": {
        "id": "hvHUIZD_kuw1"
      },
      "outputs": [],
      "source": [
        "# Transfer learning - Freeze the weights of the base_model \n",
        "base_model.trainable = False\n",
        "\n",
        "# Define a new top model\n",
        "n_classes = len(y.unique())\n",
        "\n",
        "top_model = Sequential()\n",
        "top_model.add(Flatten())\n",
        "top_model.add(Dropout(rate=0.2))\n",
        "top_model.add(Dense(1024, activation='relu'))\n",
        "top_model.add(Dropout(rate=0.2))\n",
        "top_model.add(Dense(n_classes, activation='softmax'))\n",
        "\n",
        "# Combine the base_model with new top model\n",
        "model = Sequential()\n",
        "model.add(base_model)\n",
        "model.add(top_model)\n",
        "\n",
        "# Train the model on the flowers images\n",
        "early_stopping = keras.callbacks.EarlyStopping(patience=5, monitor='val_loss')\n",
        "\n",
        "model.compile(optimizer=keras.optimizers.Adam(),\n",
        "              loss=\"categorical_crossentropy\",\n",
        "              metrics=['accuracy'])\n",
        "\n",
        "history = model.fit(train_generator, epochs=100, callbacks=[early_stopping], \n",
        "                    validation_data=validation_generator)"
      ]
    },
    {
      "cell_type": "code",
      "execution_count": null,
      "metadata": {
        "id": "n7b8Vamb52tt"
      },
      "outputs": [],
      "source": [
        "test_loss, test_accuracy = model.evaluate(test_generator, verbose=0)"
      ]
    },
    {
      "cell_type": "code",
      "execution_count": null,
      "metadata": {
        "id": "bsalMDhJ58HZ"
      },
      "outputs": [],
      "source": []
    }
  ],
  "metadata": {
    "colab": {
      "provenance": [],
      "gpuType": "T4",
      "authorship_tag": "ABX9TyOYGvXoN5m6A9lPYLWbB/NT",
      "include_colab_link": true
    },
    "kernelspec": {
      "display_name": "Python 3",
      "name": "python3"
    },
    "language_info": {
      "name": "python"
    },
    "accelerator": "GPU"
  },
  "nbformat": 4,
  "nbformat_minor": 0
}